{
 "cells": [
  {
   "cell_type": "markdown",
   "metadata": {},
   "source": [
    "q1 \n",
    "\n",
    "Write a Python Program(with class concepts) to find the area of the triangle using the below\n",
    "formula.\n",
    "area = (s*(s-a)*(s-b)*(s-c)) ** 0.5\n",
    "Function to take the length of the sides of triangle from user should be defined in the parent\n",
    "class and function to calculate the area should be defined in subclass."
   ]
  },
  {
   "cell_type": "code",
   "execution_count": 1,
   "metadata": {},
   "outputs": [
    {
     "name": "stdout",
     "output_type": "stream",
     "text": [
      "enter the sides :10 8 6\n",
      "24.0\n"
     ]
    }
   ],
   "source": [
    "\n",
    "class triangle():\n",
    "    def __init__(self):\n",
    "        a,b,c=map(float,input(\"enter the sides :\").split())\n",
    "        self.s1=a\n",
    "        self.s2=b\n",
    "        self.s3=c\n",
    "        \n",
    "        \n",
    "class area(triangle):\n",
    "    def findarea(self):\n",
    "        s=(self.s1+self.s2+self.s3)/2\n",
    "        return (s*(s-self.s1)*(s-self.s2)*(s-self.s3)) ** 0.5\n",
    "    \n",
    " \n",
    "obj = area()\n",
    "\n",
    "print(obj.findarea())\n",
    "    "
   ]
  },
  {
   "cell_type": "code",
   "execution_count": null,
   "metadata": {},
   "outputs": [],
   "source": []
  },
  {
   "cell_type": "markdown",
   "metadata": {},
   "source": [
    "1.2 Write a function filter_long_words() that takes a list of words and an integer n and returns\n",
    "the list of words that are longer than n."
   ]
  },
  {
   "cell_type": "code",
   "execution_count": 2,
   "metadata": {},
   "outputs": [
    {
     "data": {
      "text/plain": [
       "['devanshu', 'rohit', 'ayush']"
      ]
     },
     "execution_count": 2,
     "metadata": {},
     "output_type": "execute_result"
    }
   ],
   "source": [
    "def filter_long_words(ls,n):\n",
    "    flist=[]\n",
    "    for x in range(len(ls)):\n",
    "        if (len(ls[x])>n):\n",
    "            flist.append(ls[x])\n",
    "    return(flist)              \n",
    "n=4\n",
    "ls=['devanshu','rohit','ayush','coco','don','stun']\n",
    "filter_long_words(ls,n)"
   ]
  },
  {
   "cell_type": "code",
   "execution_count": null,
   "metadata": {},
   "outputs": [],
   "source": []
  },
  {
   "cell_type": "markdown",
   "metadata": {},
   "source": [
    "Write a Python program using function concept that maps list of words into a list of integers\n",
    "representing the lengths of the corresponding words.\n",
    "Hint: If a list [ ab,cde,erty] is passed on to the python function output should come as [2,3,4]\n",
    "Here 2,3 and 4 are the lengths of the words in the list."
   ]
  },
  {
   "cell_type": "code",
   "execution_count": 75,
   "metadata": {},
   "outputs": [
    {
     "data": {
      "text/plain": [
       "[4, 4, 8, 6, 1, 0]"
      ]
     },
     "execution_count": 75,
     "metadata": {},
     "output_type": "execute_result"
    }
   ],
   "source": [
    "def length(l):\n",
    "    return len(l)\n",
    "lst=['abcd','lmnp','devanshu','sharma','a','']\n",
    "list(map(length,lst))"
   ]
  },
  {
   "cell_type": "code",
   "execution_count": null,
   "metadata": {},
   "outputs": [],
   "source": []
  },
  {
   "cell_type": "markdown",
   "metadata": {},
   "source": [
    "Write a Python function which takes a character (i.e. a string of length 1) and returns True if\n",
    "it is a vowel, False otherwise."
   ]
  },
  {
   "cell_type": "code",
   "execution_count": 79,
   "metadata": {},
   "outputs": [
    {
     "data": {
      "text/plain": [
       "False"
      ]
     },
     "execution_count": 79,
     "metadata": {},
     "output_type": "execute_result"
    }
   ],
   "source": [
    "def check_vowel(chr):\n",
    "    vowel=['a','i','e','o','u','A','E','I','O','U']\n",
    "    if chr in vowel:\n",
    "        return True\n",
    "    else :\n",
    "        return False\n",
    "check_vowel('d')    "
   ]
  },
  {
   "cell_type": "code",
   "execution_count": null,
   "metadata": {},
   "outputs": [],
   "source": []
  },
  {
   "cell_type": "code",
   "execution_count": null,
   "metadata": {},
   "outputs": [],
   "source": []
  },
  {
   "cell_type": "code",
   "execution_count": null,
   "metadata": {},
   "outputs": [],
   "source": []
  }
 ],
 "metadata": {
  "kernelspec": {
   "display_name": "Python 3",
   "language": "python",
   "name": "python3"
  },
  "language_info": {
   "codemirror_mode": {
    "name": "ipython",
    "version": 3
   },
   "file_extension": ".py",
   "mimetype": "text/x-python",
   "name": "python",
   "nbconvert_exporter": "python",
   "pygments_lexer": "ipython3",
   "version": "3.7.3"
  }
 },
 "nbformat": 4,
 "nbformat_minor": 2
}
